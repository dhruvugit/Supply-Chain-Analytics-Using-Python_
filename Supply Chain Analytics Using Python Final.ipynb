{
 "cells": [
  {
   "cell_type": "markdown",
   "metadata": {},
   "source": [
    "### Product Mix Problem:\n",
    "A Company produces 3 paints (interior, exterior and theme) from two raw materials, M1 and M2. \n",
    "### Decision Variables:\n",
    "- $x_1$: Amount of exterior paint produced daily \n",
    "- $x_2$: Amount of interior paint produced daily\n",
    "- $x_3$: Amount of theme paint produced daily\n",
    "\n",
    "#### Objective Function:\n",
    "Maximizes the total daily profit\n",
    "\n",
    "\\begin{align}\n",
    "max \\hspace{1cm} Z & = 1500x_1+2500x_2+3500x_3 \\\\\n",
    "s.t. \\hspace{0.5cm} 2x_1+2x_2+3x_3 & \\leq 14 \\\\\n",
    "\\hspace{0.5cm} x_2+2x_3 & \\leq 5 \\\\\n",
    "x_1 & \\geq 0 \\\\\n",
    "x_2 & \\geq 0 \\\\\n",
    "x_3 & \\geq 0 \\\\\n",
    "\\end{align}"
   ]
  },
  {
   "cell_type": "markdown",
   "metadata": {},
   "source": [
    "- PuLP uses LP solvers (e.g., GLPK, COIN CLP/CBC, CPLEX, and GUROBI) to solve linear problems. \n",
    "- To install PuLP, in a Command Prompt, type in `pip install pulp`"
   ]
  },
  {
   "cell_type": "code",
   "execution_count": 6,
   "metadata": {},
   "outputs": [],
   "source": [
    "# Import PuLP modeler functions\n",
    "from pulp import *"
   ]
  },
  {
   "cell_type": "code",
   "execution_count": 109,
   "metadata": {},
   "outputs": [],
   "source": [
    "# Create a LP maximization problem\n",
    "pm = LpProblem(\"Product_Mix\", LpMaximize)  "
   ]
  },
  {
   "cell_type": "code",
   "execution_count": 110,
   "metadata": {},
   "outputs": [],
   "source": [
    "# LpVariable(variable name, lower Bound=None, uppper Bound=None, catagory='Continuous')\n",
    "x1 = LpVariable(\"x1\",0,None,LpContinuous) # Create a variable x1 >= 0\n",
    "x2 = LpVariable(\"x2\",0,None,LpContinuous) # Create another variable x2 >= 0\n",
    "x3 = LpVariable(\"x3\",0,None,LpContinuous) # Create another variable x3 >= 0"
   ]
  },
  {
   "cell_type": "code",
   "execution_count": 111,
   "metadata": {},
   "outputs": [],
   "source": [
    "# Objective Function\n",
    "pm += 1500*x1 + 2500*x2 + 3500*x3  "
   ]
  },
  {
   "cell_type": "code",
   "execution_count": 112,
   "metadata": {},
   "outputs": [],
   "source": [
    "# Constraints\n",
    "pm += 2*x1 + 2*x2 + 3*x3 <= 14\n",
    "pm += 0*x1 + 1*x2 + 2*x3 <= 5 "
   ]
  },
  {
   "cell_type": "code",
   "execution_count": 113,
   "metadata": {},
   "outputs": [
    {
     "data": {
      "text/plain": [
       "Product_Mix:\n",
       "MAXIMIZE\n",
       "1500*x1 + 2500*x2 + 3500*x3 + 0\n",
       "SUBJECT TO\n",
       "_C1: 2 x1 + 2 x2 + 3 x3 <= 14\n",
       "\n",
       "_C2: x2 + 2 x3 <= 5\n",
       "\n",
       "VARIABLES\n",
       "x1 Continuous\n",
       "x2 Continuous\n",
       "x3 Continuous"
      ]
     },
     "execution_count": 113,
     "metadata": {},
     "output_type": "execute_result"
    }
   ],
   "source": [
    "# Display the LP problem\n",
    "pm"
   ]
  },
  {
   "cell_type": "code",
   "execution_count": 114,
   "metadata": {},
   "outputs": [
    {
     "data": {
      "text/plain": [
       "1"
      ]
     },
     "execution_count": 114,
     "metadata": {},
     "output_type": "execute_result"
    }
   ],
   "source": [
    "# Solve with the default solver\n",
    "pm.solve()"
   ]
  },
  {
   "cell_type": "code",
   "execution_count": 115,
   "metadata": {},
   "outputs": [
    {
     "name": "stdout",
     "output_type": "stream",
     "text": [
      "Solution Status: Optimal\n"
     ]
    }
   ],
   "source": [
    "# Print the solution status\n",
    "print(\"Solution Status:\", LpStatus[pm.status])"
   ]
  },
  {
   "cell_type": "code",
   "execution_count": 116,
   "metadata": {},
   "outputs": [
    {
     "data": {
      "text/plain": [
       "(2.0, 5.0, 0.0, 15500.0)"
      ]
     },
     "execution_count": 116,
     "metadata": {},
     "output_type": "execute_result"
    }
   ],
   "source": [
    "# Show the solution (1st Approach)\n",
    "value(x1), value(x2), value(x3), value(pm.objective)  "
   ]
  },
  {
   "cell_type": "code",
   "execution_count": 117,
   "metadata": {},
   "outputs": [
    {
     "name": "stdout",
     "output_type": "stream",
     "text": [
      "x1 = 2.0\n",
      "x2 = 5.0\n",
      "x3 = 0.0\n"
     ]
    }
   ],
   "source": [
    "# Show the solution (2nd Approach)\n",
    "for v in pm.variables():\n",
    "    print (v.name, \"=\", v.varValue)"
   ]
  },
  {
   "cell_type": "code",
   "execution_count": 118,
   "metadata": {},
   "outputs": [
    {
     "name": "stdout",
     "output_type": "stream",
     "text": [
      "objective= 15500.0\n"
     ]
    }
   ],
   "source": [
    "print (\"objective=\", value(pm.objective))"
   ]
  },
  {
   "cell_type": "markdown",
   "metadata": {},
   "source": [
    "### Product Mix Problem Using List & Dictionary"
   ]
  },
  {
   "cell_type": "code",
   "execution_count": 86,
   "metadata": {},
   "outputs": [],
   "source": [
    "# Create a List of Paints\n",
    "Paints = ['Exterior Paint', 'Interior Paint', 'Theme Paint']"
   ]
  },
  {
   "cell_type": "code",
   "execution_count": 87,
   "metadata": {},
   "outputs": [],
   "source": [
    "# Disctionary of the profits of each of the paint \n",
    "Profit = {'Exterior Paint': 1500,\n",
    "         'Interior Paint': 2500,\n",
    "         'Theme Paint': 3500}\n",
    "\n",
    "# Disctionary of the Raw_Material (M1) in each of the paints \n",
    "Raw_Material_M1 = {'Exterior Paint': 2,\n",
    "         'Interior Paint': 2,\n",
    "         'Theme Paint': 3}\n",
    "# Disctionary of the Raw_Material (M1) in each of the paints \n",
    "Raw_Material_M2 = {'Exterior Paint': 0,\n",
    "         'Interior Paint': 1,\n",
    "         'Theme Paint': 2}"
   ]
  },
  {
   "cell_type": "code",
   "execution_count": 119,
   "metadata": {},
   "outputs": [],
   "source": [
    "# Create a LP maximization problem\n",
    "pm1 = LpProblem(\"Product_Mix\", LpMaximize)  "
   ]
  },
  {
   "cell_type": "markdown",
   "metadata": {},
   "source": [
    "### Creates a dictionary of LP variables\n",
    "#### dicts(name, indexs, lowBound=None, upBound=None, cat=0, indexStart=[]) # Class Method\n",
    "- Parameters:\t\n",
    "    - name – The prefix to the name of each LP variable created\n",
    "    - indexs – A list of strings of the keys to the dictionary of LP variables, and the main part of the variable name itself\n",
    "    - lowbound – The lower bound on these variables’ range. Default is negative infinity\n",
    "    - upBound – The upper bound on these variables’ range. Default is positive infinity\n",
    "    - cat – The category these variables are in, Integer or Continuous(default)\n",
    "- Returns:\t\n",
    "    - A dictionary of LP Variables"
   ]
  },
  {
   "cell_type": "code",
   "execution_count": 120,
   "metadata": {},
   "outputs": [],
   "source": [
    "paint_vars = LpVariable.dicts(\"Paint\",Paints,0)"
   ]
  },
  {
   "cell_type": "code",
   "execution_count": 121,
   "metadata": {},
   "outputs": [],
   "source": [
    "# Add Objective Function to the 'prob'\n",
    "# lpSum(vector): Calculate the sum of a list of linear expressions\n",
    "pm1 += lpSum(Profit[i]*paint_vars [i] for i in Paints)"
   ]
  },
  {
   "cell_type": "code",
   "execution_count": 122,
   "metadata": {},
   "outputs": [],
   "source": [
    "# Adding The constraints \n",
    "pm1 += lpSum([Raw_Material_M1[i]*paint_vars[i] for i in Paints])<=14\n",
    "pm1 += lpSum([Raw_Material_M2[i]*paint_vars[i] for i in Paints])<=5"
   ]
  },
  {
   "cell_type": "code",
   "execution_count": 123,
   "metadata": {},
   "outputs": [
    {
     "data": {
      "text/plain": [
       "1"
      ]
     },
     "execution_count": 123,
     "metadata": {},
     "output_type": "execute_result"
    }
   ],
   "source": [
    "pm1.solve()"
   ]
  },
  {
   "cell_type": "code",
   "execution_count": 124,
   "metadata": {},
   "outputs": [
    {
     "name": "stdout",
     "output_type": "stream",
     "text": [
      "\n",
      " Solution Status: Optimal \n",
      "\n"
     ]
    }
   ],
   "source": [
    "# Print the solution status\n",
    "print(\"\\n\",\"Solution Status:\", LpStatus[pm1.status],\"\\n\")"
   ]
  },
  {
   "cell_type": "code",
   "execution_count": 125,
   "metadata": {},
   "outputs": [
    {
     "name": "stdout",
     "output_type": "stream",
     "text": [
      "\t Paint_Exterior_Paint = 2.0 tons\n",
      "\t Paint_Interior_Paint = 5.0 tons\n",
      "\t Paint_Theme_Paint = 0.0 tons\n"
     ]
    }
   ],
   "source": [
    "# Show the solution \n",
    "for v in pm1.variables():\n",
    "    print (\"\\t\", v.name, \"=\", v.varValue, \"tons\")"
   ]
  },
  {
   "cell_type": "code",
   "execution_count": 126,
   "metadata": {},
   "outputs": [
    {
     "name": "stdout",
     "output_type": "stream",
     "text": [
      "Maximum Dality Profit = Rs. 15500.0\n"
     ]
    }
   ],
   "source": [
    "# Objective Function Value \n",
    "print (\"Maximum Dality Profit =\", \"Rs.\", value(pm1.objective))"
   ]
  },
  {
   "cell_type": "markdown",
   "metadata": {},
   "source": [
    "### Capacitated Plant (Facility) Location Problem"
   ]
  },
  {
   "cell_type": "code",
   "execution_count": 127,
   "metadata": {},
   "outputs": [],
   "source": [
    "# Lists (sets / Array) of Customers and Facilities\n",
    "Customer = [1,2,3,4,5]\n",
    "Facility = ['Fac-1', 'Fac-2', 'Fac-3']"
   ]
  },
  {
   "cell_type": "code",
   "execution_count": 128,
   "metadata": {},
   "outputs": [],
   "source": [
    "# Dictionaries of the demands and facilities as well as fixed cost at each facility\n",
    "Demand = {1 : 80, 2 : 270, 3 : 250, 4 : 160, 5 : 180}\n",
    "Max_Supply = {'Fac-1' : 500, 'Fac-2' : 500, 'Fac-3' : 500} \n",
    "fixed_cost = {'Fac-1' : 1000, 'Fac-2' : 1000, 'Fac-3' : 1000 }\n",
    "\n",
    "# Dictionary of the transportation cost from each facility to all the customers \n",
    "transportation_cost = {'Fac-1' : {1 : 4, 2 : 5, 3 : 6, 4 : 8, 5 : 10},\n",
    "                       'Fac-2' : {1 : 6, 2 : 4, 3 : 3, 4 : 5, 5 : 8},\n",
    "                       'Fac-3' : {1 : 9, 2 : 7, 3 : 4, 4 : 3, 5 : 4}\n",
    "                      }"
   ]
  },
  {
   "cell_type": "code",
   "execution_count": 129,
   "metadata": {},
   "outputs": [],
   "source": [
    "# Setting the Problem\n",
    "cflp = LpProblem(\"Capacitated_Facility_Location_Problem\", LpMinimize)"
   ]
  },
  {
   "cell_type": "code",
   "execution_count": 130,
   "metadata": {},
   "outputs": [],
   "source": [
    "# Defining our Desicion Variables\n",
    "use_facility = LpVariable.dicts(\"Use Facility\", Facility, 0, 1, LpBinary)\n",
    "ser_customer = LpVariable.dicts(\"Service\", [(i,j) for i in Customer for j in Facility], 0)"
   ]
  },
  {
   "cell_type": "code",
   "execution_count": 131,
   "metadata": {},
   "outputs": [],
   "source": [
    "# Setting the Objective Function\n",
    "cflp += (lpSum(fixed_cost[j]*use_facility[j] for j in Facility) + \n",
    "         lpSum(transportation_cost[j][i]*ser_customer[(i,j)] for j in Facility for i in Customer))"
   ]
  },
  {
   "cell_type": "code",
   "execution_count": 132,
   "metadata": {},
   "outputs": [],
   "source": [
    "# Costraints\n",
    "for i in Customer:\n",
    "    cflp += lpSum(ser_customer[(i,j)] for j in Facility) == Demand[i]\n",
    "\n",
    "for j in Facility:\n",
    "    cflp += lpSum(ser_customer[(i,j)] for i in Customer) <= Max_Supply[j]*use_facility[j]\n",
    "\n",
    "for i in Customer:\n",
    "    for j in Facility:\n",
    "        cflp += ser_customer[(i,j)] <= Demand[i]*use_facility[j]"
   ]
  },
  {
   "cell_type": "code",
   "execution_count": 133,
   "metadata": {},
   "outputs": [
    {
     "data": {
      "text/plain": [
       "1"
      ]
     },
     "execution_count": 133,
     "metadata": {},
     "output_type": "execute_result"
    }
   ],
   "source": [
    "cflp.solve()"
   ]
  },
  {
   "cell_type": "code",
   "execution_count": 134,
   "metadata": {},
   "outputs": [
    {
     "name": "stdout",
     "output_type": "stream",
     "text": [
      "Solution Status =  Optimal\n"
     ]
    }
   ],
   "source": [
    "print(\"Solution Status = \", LpStatus[cflp.status])"
   ]
  },
  {
   "cell_type": "code",
   "execution_count": 137,
   "metadata": {},
   "outputs": [
    {
     "name": "stdout",
     "output_type": "stream",
     "text": [
      "Estalish Facility at site =  Fac-2\n",
      "Estalish Facility at site =  Fac-3\n"
     ]
    }
   ],
   "source": [
    "# Print the solution of Binary Decision Variables\n",
    "Tolerance = 0.0001\n",
    "for j in Facility:\n",
    "    if use_facility[j].varValue > Tolerance:\n",
    "        print(\"Estalish Facility at site = \", j)"
   ]
  },
  {
   "cell_type": "code",
   "execution_count": 138,
   "metadata": {},
   "outputs": [
    {
     "name": "stdout",
     "output_type": "stream",
     "text": [
      "Service_(1,_'Fac_1') = 0.0\n",
      "Service_(1,_'Fac_2') = 80.0\n",
      "Service_(1,_'Fac_3') = 0.0\n",
      "Service_(2,_'Fac_1') = 0.0\n",
      "Service_(2,_'Fac_2') = 270.0\n",
      "Service_(2,_'Fac_3') = 0.0\n",
      "Service_(3,_'Fac_1') = 0.0\n",
      "Service_(3,_'Fac_2') = 150.0\n",
      "Service_(3,_'Fac_3') = 100.0\n",
      "Service_(4,_'Fac_1') = 0.0\n",
      "Service_(4,_'Fac_2') = 0.0\n",
      "Service_(4,_'Fac_3') = 160.0\n",
      "Service_(5,_'Fac_1') = 0.0\n",
      "Service_(5,_'Fac_2') = 0.0\n",
      "Service_(5,_'Fac_3') = 180.0\n",
      "Use_Facility_Fac_1 = 0.0\n",
      "Use_Facility_Fac_2 = 1.0\n",
      "Use_Facility_Fac_3 = 1.0\n"
     ]
    }
   ],
   "source": [
    "# Print the solution of the Decision Variables\n",
    "for v in cflp.variables():\n",
    "    print(v.name, \"=\", v.varValue)"
   ]
  },
  {
   "cell_type": "code",
   "execution_count": 141,
   "metadata": {},
   "outputs": [
    {
     "name": "stdout",
     "output_type": "stream",
     "text": [
      "Service_(1,_'Fac_2') = 80.0\n",
      "Service_(2,_'Fac_2') = 270.0\n",
      "Service_(3,_'Fac_2') = 150.0\n",
      "Service_(3,_'Fac_3') = 100.0\n",
      "Service_(4,_'Fac_3') = 160.0\n",
      "Service_(5,_'Fac_3') = 180.0\n",
      "Use_Facility_Fac_2 = 1.0\n",
      "Use_Facility_Fac_3 = 1.0\n"
     ]
    }
   ],
   "source": [
    "# Print the solution of the Decision Variables that have Non-Zero Value\n",
    "for v in cflp.variables():\n",
    "     if v.varValue>0:\n",
    "        print(v.name, \"=\", v.varValue)"
   ]
  },
  {
   "cell_type": "code",
   "execution_count": 143,
   "metadata": {},
   "outputs": [
    {
     "name": "stdout",
     "output_type": "stream",
     "text": [
      "Total Cost =  5610.0\n"
     ]
    }
   ],
   "source": [
    "# Print Optimal\n",
    "print(\"Total Cost = \", value(cflp.objective))"
   ]
  },
  {
   "cell_type": "markdown",
   "metadata": {},
   "source": [
    "### Aggregate Production Planning Problem"
   ]
  },
  {
   "cell_type": "code",
   "execution_count": 144,
   "metadata": {},
   "outputs": [],
   "source": [
    "# Lsit (TimePeriods)\n",
    "t = [0,1,2,3,4,5,6]"
   ]
  },
  {
   "cell_type": "code",
   "execution_count": 145,
   "metadata": {},
   "outputs": [],
   "source": [
    "# Parameters and Data\n",
    "demand = {1:100, 2:100, 3:150, 4:200, 5:150, 6:100} # Demand data\n",
    "UPC = {1:7, 2:8, 3:8, 4:8, 5:7, 6:8} # Unit Production Cost (Excluding Labor)\n",
    "UHC = {1:3, 2:4, 3:4, 4:4, 5:3, 6:2} # Unit Holding Cost\n",
    "UBC = {1:20, 2:25, 3:25, 4:25, 5:20, 6:15} # Unit Back order cost\n",
    "URLC = {1:15, 2:15, 3:18, 4:18, 5:15, 6:15} # Unit Regular Labor Cost\n",
    "UOLC = {1:22.5, 2:22.5, 3:27, 4:27, 5:22.5, 6:22.5} # Unit Overtime Labor Cost\n",
    "HC = {1:20, 2:20, 3:20, 4:20, 5:20, 6:20} # hiring cost\n",
    "FC = {1:20, 2:20, 3:20, 4:20, 5:20, 6:15} #firing cost"
   ]
  },
  {
   "cell_type": "code",
   "execution_count": 146,
   "metadata": {},
   "outputs": [],
   "source": [
    "# Setting the Problem\n",
    "APP = LpProblem(\"Aggregate_Production_Planning: MIP_Model\", LpMinimize)"
   ]
  },
  {
   "cell_type": "code",
   "execution_count": 147,
   "metadata": {},
   "outputs": [],
   "source": [
    "# Desicion Variables\n",
    "Xt = LpVariable.dicts(\"Quantity Produced\", t, 0, None, LpInteger)\n",
    "It = LpVariable.dicts(\"Inventory\", t, 0)\n",
    "Bt = LpVariable.dicts(\"Backorder\", t, 0)\n",
    "Rt = LpVariable.dicts(\"R_Labor Used\", t, 0)\n",
    "Ot = LpVariable.dicts(\"O_Labor Used\", t, 0)\n",
    "Ht = LpVariable.dicts(\"Labours Hired\", t, 0)\n",
    "Ft = LpVariable.dicts(\"Labours Fired\", t, 0)"
   ]
  },
  {
   "cell_type": "code",
   "execution_count": 148,
   "metadata": {},
   "outputs": [],
   "source": [
    "# Objective Function\n",
    "APP += (lpSum(UPC[i]*Xt[i] for i in t[1:]) + lpSum(UHC[i]*It[i] for i in t[1:]) + \n",
    "        lpSum(UBC[i]*Bt[i] for i in t[1:]) + lpSum(URLC[i]*Rt[i] for i in t[1:]) + \n",
    "         lpSum(UOLC[i]*Ot[i] for i in t[1:]) + lpSum(HC[i]*Ht[i] for i in t[1:]) + lpSum(FC[i]*Ft[i] for i in t[1:]))"
   ]
  },
  {
   "cell_type": "code",
   "execution_count": 149,
   "metadata": {},
   "outputs": [],
   "source": [
    "# Constraints\n",
    "It[0] = 3\n",
    "Rt[0] = 0\n",
    "Bt[0] = 0\n",
    "for i in t[1:]:\n",
    "    APP += (Xt[i] + It[i-1] - It[i] - Bt[i-1] + Bt[i]) == demand[i] # Inventory-Balancing Constraints\n",
    "for i in t[1:]:\n",
    "    APP += Xt[i] - Rt[i] - Ot[i] == 0  # Time Required to produce products\n",
    "for i in t[1:]:\n",
    "    APP += Rt[i]- Rt[i-1] - Ht[i] + Ft[i] == 0 # Regular Time Required\n",
    "for i in t[1:]:\n",
    "    APP += (Ot[i] - 0.25*Rt[i]) <= 0 # Regular Time Required"
   ]
  },
  {
   "cell_type": "code",
   "execution_count": 150,
   "metadata": {},
   "outputs": [
    {
     "name": "stdout",
     "output_type": "stream",
     "text": [
      "Solution Status =  Optimal\n"
     ]
    }
   ],
   "source": [
    "APP.solve()\n",
    "print(\"Solution Status = \", LpStatus[prob.status])"
   ]
  },
  {
   "cell_type": "code",
   "execution_count": 151,
   "metadata": {},
   "outputs": [
    {
     "name": "stdout",
     "output_type": "stream",
     "text": [
      "Backorder_5 = 21.0\n",
      "Inventory_1 = 32.0\n",
      "Inventory_2 = 61.0\n",
      "Inventory_3 = 40.0\n",
      "Labours_Fired_6 = 8.0\n",
      "Labours_Hired_1 = 129.0\n",
      "O_Labor_Used_4 = 31.0\n",
      "Quantity_Produced_1 = 129.0\n",
      "Quantity_Produced_2 = 129.0\n",
      "Quantity_Produced_3 = 129.0\n",
      "Quantity_Produced_4 = 160.0\n",
      "Quantity_Produced_5 = 129.0\n",
      "Quantity_Produced_6 = 121.0\n",
      "R_Labor_Used_1 = 129.0\n",
      "R_Labor_Used_2 = 129.0\n",
      "R_Labor_Used_3 = 129.0\n",
      "R_Labor_Used_4 = 129.0\n",
      "R_Labor_Used_5 = 129.0\n",
      "R_Labor_Used_6 = 121.0\n"
     ]
    }
   ],
   "source": [
    "# Print the solution of the Decision Variables\n",
    "for v in APP.variables():\n",
    "    if v.varValue>0:\n",
    "        print(v.name, \"=\", v.varValue)"
   ]
  },
  {
   "cell_type": "code",
   "execution_count": 152,
   "metadata": {},
   "outputs": [
    {
     "name": "stdout",
     "output_type": "stream",
     "text": [
      "Total Production Plan Cost =  22839.0\n"
     ]
    }
   ],
   "source": [
    "# Print Optimal\n",
    "print(\"Total Production Plan Cost = \", value(APP.objective))"
   ]
  },
  {
   "cell_type": "markdown",
   "metadata": {},
   "source": [
    "### Transportation Problem"
   ]
  },
  {
   "cell_type": "code",
   "execution_count": 1,
   "metadata": {},
   "outputs": [],
   "source": [
    "# Sources and Destinations: List\n",
    "Branch = ['A', 'B', 'C', 'D']\n",
    "Warehouse = [1,2,3,4]"
   ]
  },
  {
   "cell_type": "code",
   "execution_count": 4,
   "metadata": {},
   "outputs": [],
   "source": [
    "# Supply from each Branch\n",
    "supply = {'A' : 35, 'B' : 50, 'C' : 80, 'D' : 65}\n",
    "\n",
    "# Demand of each Wareshouse\n",
    "demand = {1 : 70, 2 : 30, 3 : 75, 4 : 55}\n",
    "\n",
    "# Cost for all Braches and Wareshouse\n",
    "cost = {'A': {1 : 10, 2 : 7, 3 : 6, 4 : 4},\n",
    "       'B': {1 : 8, 2 : 8, 3 : 5, 4 : 7},\n",
    "       'C': {1 : 4, 2 : 3, 3 : 6, 4 : 9},\n",
    "       'D': {1 : 7, 2 : 5, 3 : 4, 4 : 3},\n",
    "       }"
   ]
  },
  {
   "cell_type": "code",
   "execution_count": 7,
   "metadata": {},
   "outputs": [],
   "source": [
    "# Setting Problem \n",
    "prob = LpProblem(\"Transportation\", LpMinimize)"
   ]
  },
  {
   "cell_type": "code",
   "execution_count": 8,
   "metadata": {},
   "outputs": [],
   "source": [
    "routes =[(i,j) for i in Branch for j in Warehouse]"
   ]
  },
  {
   "cell_type": "code",
   "execution_count": 9,
   "metadata": {},
   "outputs": [],
   "source": [
    "# Defining Decision Variables\n",
    "amount_vars = LpVariable.dicts(\"Amountship\",(Branch,Warehouse),0)"
   ]
  },
  {
   "cell_type": "code",
   "execution_count": 10,
   "metadata": {},
   "outputs": [],
   "source": [
    "# Defining Objective Function\n",
    "prob += lpSum(amount_vars[i][j]*cost[i][j] for (i,j) in routes)"
   ]
  },
  {
   "cell_type": "code",
   "execution_count": 11,
   "metadata": {},
   "outputs": [],
   "source": [
    "# Constraints\n",
    "for j in Warehouse:\n",
    "    prob += lpSum(amount_vars[i][j] for i in Branch) == demand[j]\n",
    "\n",
    "for i in Branch:\n",
    "    prob += lpSum(amount_vars[i][j] for j in Warehouse) <= supply[i]"
   ]
  },
  {
   "cell_type": "code",
   "execution_count": 12,
   "metadata": {},
   "outputs": [
    {
     "data": {
      "text/plain": [
       "1"
      ]
     },
     "execution_count": 12,
     "metadata": {},
     "output_type": "execute_result"
    }
   ],
   "source": [
    "prob.solve()"
   ]
  },
  {
   "cell_type": "code",
   "execution_count": 13,
   "metadata": {},
   "outputs": [
    {
     "name": "stdout",
     "output_type": "stream",
     "text": [
      "Status: Optimal\n"
     ]
    }
   ],
   "source": [
    "print(\"Status:\", LpStatus[prob.status])"
   ]
  },
  {
   "cell_type": "code",
   "execution_count": 14,
   "metadata": {},
   "outputs": [
    {
     "name": "stdout",
     "output_type": "stream",
     "text": [
      "Amountship_A_4 = 35.0\n",
      "Amountship_B_3 = 50.0\n",
      "Amountship_C_1 = 70.0\n",
      "Amountship_C_2 = 10.0\n",
      "Amountship_D_2 = 20.0\n",
      "Amountship_D_3 = 25.0\n",
      "Amountship_D_4 = 20.0\n"
     ]
    }
   ],
   "source": [
    "for v in prob.variables():\n",
    "    if v.varValue > 0:\n",
    "        print(v.name, \"=\", v.varValue)"
   ]
  },
  {
   "cell_type": "code",
   "execution_count": 15,
   "metadata": {},
   "outputs": [
    {
     "name": "stdout",
     "output_type": "stream",
     "text": [
      "Total bushel-miles =  960.0\n"
     ]
    }
   ],
   "source": [
    "print(\"Total bushel-miles = \", value(prob.objective))"
   ]
  },
  {
   "cell_type": "code",
   "execution_count": null,
   "metadata": {},
   "outputs": [],
   "source": []
  }
 ],
 "metadata": {
  "kernelspec": {
   "display_name": "Python 3 (ipykernel)",
   "language": "python",
   "name": "python3"
  },
  "language_info": {
   "codemirror_mode": {
    "name": "ipython",
    "version": 3
   },
   "file_extension": ".py",
   "mimetype": "text/x-python",
   "name": "python",
   "nbconvert_exporter": "python",
   "pygments_lexer": "ipython3",
   "version": "3.9.10"
  }
 },
 "nbformat": 4,
 "nbformat_minor": 4
}
